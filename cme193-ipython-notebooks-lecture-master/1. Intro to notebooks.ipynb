{
 "cells": [
  {
   "cell_type": "markdown",
   "metadata": {},
   "source": [
    "# Getting started\n",
    "\n",
    "To view the notebooks of today's lecture, go to:\n",
    "```\n",
    "http://nbviewer.ipython.org/github/schmit/cme193-ipython-notebooks-lecture/tree/master/\n",
    "```\n",
    "or\n",
    "```\n",
    "http://goo.gl/QSGNxe\n",
    "```\n",
    "\n",
    "You can download all files using git:\n",
    "```\n",
    "$ git clone https://github.com/schmit/cme193-ipython-notebooks-lecture.git\n",
    "```\n",
    "or by downloading the files directly:\n",
    "```\n",
    "https://github.com/schmit/cme193-ipython-notebooks-lecture/archive/master.zip\n",
    "```"
   ]
  },
  {
   "cell_type": "markdown",
   "metadata": {},
   "source": [
    "# Introduction to IPython Notebooks\n",
    "\n",
    "Ipython notebooks consists of cells that can be run at any time by pressing Shift+Enter while selecting the cell.\n",
    "\n",
    "To get started, use your terminal to navigate to the desired folder (using **cd**).\n",
    "Then start the *IPython notebook app* using \n",
    "```\n",
    "$ ipython notebook\n",
    "```\n",
    "\n",
    "While starting up, you might notice some activity in the terminal. \n",
    "Eventually, a new browser window or tab should open.\n",
    "\n",
    "Under the **Files** tab,\n",
    "you can open existing notebooks, or create a new one. \n",
    "Furhtermore, you can browse through subfolders and create other files.\n",
    "\n",
    "The **Running** and **Clusters** tabs are less relevant, but feel free to check them out."
   ]
  },
  {
   "cell_type": "code",
   "execution_count": 1,
   "metadata": {
    "collapsed": false
   },
   "outputs": [
    {
     "name": "stdout",
     "output_type": "stream",
     "text": [
      "2\n"
     ]
    }
   ],
   "source": [
    "x = 2\n",
    "print x"
   ]
  },
  {
   "cell_type": "markdown",
   "metadata": {},
   "source": [
    "This makes prototyping code simple and fast.\n",
    "\n",
    "## Markdown\n",
    "Also, as you can notice, it is possible to add Markdown cells in between cells with code to explain what is going on"
   ]
  },
  {
   "cell_type": "code",
   "execution_count": 2,
   "metadata": {
    "collapsed": false
   },
   "outputs": [
    {
     "data": {
      "text/plain": [
       "[<matplotlib.lines.Line2D at 0x111ded9d0>]"
      ]
     },
     "execution_count": 2,
     "metadata": {},
     "output_type": "execute_result"
    },
    {
     "data": {
      "image/png": "[encoded data removed]",
      "text/plain": [
       "<matplotlib.figure.Figure at 0x10f870c10>"
      ]
     },
     "metadata": {},
     "output_type": "display_data"
    }
   ],
   "source": [
    "# needed for plots to show up in the notebook\n",
    "%matplotlib inline\n",
    "\n",
    "import numpy as np\n",
    "import matplotlib.pyplot as plt\n",
    "\n",
    "x = np.linspace(0, 1)\n",
    "y = np.exp(-x)\n",
    "\n",
    "plt.plot(x, y)"
   ]
  },
  {
   "cell_type": "markdown",
   "metadata": {},
   "source": [
    "## Magic functions\n",
    "\n",
    "Working with IPython notebooks does not take much practice.\n",
    "However, these notebooks also come with special 'magic' functions.\n",
    "You saw one above already:\n",
    "```\n",
    "%matplotlib inline\n",
    "```\n",
    "\n",
    "Magic functions always start with the % sign.\n",
    "There are quite a few, let's examine a few"
   ]
  },
  {
   "cell_type": "code",
   "execution_count": 3,
   "metadata": {
    "collapsed": false
   },
   "outputs": [
    {
     "name": "stdout",
     "output_type": "stream",
     "text": [
      "x = 2\n",
      "print x\n",
      "# needed for plots to show up in the notebook\n",
      "%matplotlib inline\n",
      "\n",
      "import numpy as np\n",
      "import matplotlib.pyplot as plt\n",
      "\n",
      "x = np.linspace(0, 1)\n",
      "y = np.exp(-x)\n",
      "\n",
      "plt.plot(x, y)\n",
      "%history\n"
     ]
    }
   ],
   "source": [
    "%history"
   ]
  },
  {
   "cell_type": "code",
   "execution_count": 4,
   "metadata": {
    "collapsed": false
   },
   "outputs": [
    {
     "name": "stdout",
     "output_type": "stream",
     "text": [
      "1. Intro to notebooks.ipynb  README.md\r\n",
      "2. Pandas.ipynb              \u001b[1m\u001b[36mdata\u001b[m\u001b[m/\r\n",
      "3. Statsmodels.ipynb         hello.py\r\n",
      "Exercises.ipynb\r\n"
     ]
    }
   ],
   "source": [
    "%ls"
   ]
  },
  {
   "cell_type": "code",
   "execution_count": 5,
   "metadata": {
    "collapsed": false
   },
   "outputs": [
    {
     "name": "stdout",
     "output_type": "stream",
     "text": [
      "hello, world!\n"
     ]
    }
   ],
   "source": [
    "%run hello.py"
   ]
  },
  {
   "cell_type": "markdown",
   "metadata": {},
   "source": [
    "## Toolbar\n",
    "\n",
    "The toolbar at the top has some useful functionality, and most of it is obvious.\n",
    "The last three buttons **Play**, **Stop** and **Restart**\n",
    "are especially important.\n",
    "\n",
    "- The play button runs the current cell, though I think Shift+Enter is faster\n",
    "- The stop button stops execution, very useful when you get stuck, e.g. in an infinite loop\n",
    "- The restart button might be the most important. It resets the kernel, whiping all variables and allowing you to start with a clean sheet. If you want to make sure your code is valid, it's useful to restart and run your entire notebook (under **Cell**). This ensures you don't have circular dependecies or undefined variables."
   ]
  },
  {
   "cell_type": "code",
   "execution_count": null,
   "metadata": {
    "collapsed": true
   },
   "outputs": [],
   "source": []
  }
 ],
 "metadata": {
  "kernelspec": {
   "display_name": "Python 2",
   "language": "python",
   "name": "python2"
  },
  "language_info": {
   "codemirror_mode": {
    "name": "ipython",
    "version": 2
   },
   "file_extension": ".py",
   "mimetype": "text/x-python",
   "name": "python",
   "nbconvert_exporter": "python",
   "pygments_lexer": "ipython2",
   "version": "2.7.9"
  }
 },
 "nbformat": 4,
 "nbformat_minor": 0
}
